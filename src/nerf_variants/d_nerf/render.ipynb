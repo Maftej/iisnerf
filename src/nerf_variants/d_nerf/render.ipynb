{
 "cells": [
  {
   "cell_type": "code",
   "execution_count": null,
   "metadata": {
    "pycharm": {
     "is_executing": true
    }
   },
   "outputs": [],
   "source": [
    "from run_dnerf import config_parser, create_nerf\n",
    "import matplotlib.pyplot as plt\n",
    "import torch\n",
    "from load_blender import pose_spherical\n",
    "from run_dnerf import render_path\n",
    "from run_dnerf_helpers import to8b"
   ]
  },
  {
   "cell_type": "code",
   "execution_count": null,
   "metadata": {
    "pycharm": {
     "is_executing": true
    }
   },
   "outputs": [],
   "source": [
    "# set cuda\n",
    "torch.set_default_tensor_type('torch.cuda.FloatTensor')\n",
    "device = torch.device(\"cuda\" if torch.cuda.is_available() else \"cpu\")\n",
    "print(\"DEVICE=\", device)\n",
    "# get config file\n",
    "config_file = \"configs/mutant.txt\"\n",
    "parser = config_parser()\n",
    "args = parser.parse_args(f'--config {config_file}')\n",
    "\n",
    "# set render params\n",
    "hwf = [400, 400, 555.555]\n",
    "_, render_kwargs_test, _, _, _ = create_nerf(args)\n",
    "render_kwargs_test.update({'near' : 2., 'far' : 6.})"
   ]
  },
  {
   "cell_type": "markdown",
   "metadata": {},
   "source": [
    "## Generate Frame"
   ]
  },
  {
   "cell_type": "code",
   "execution_count": null,
   "metadata": {
    "pycharm": {
     "is_executing": true
    }
   },
   "outputs": [],
   "source": [
    "def generate_img(time, azimuth, elevation):\n",
    "    assert 0. <= time <= 1.\n",
    "    assert -180 <= azimuth <= 180\n",
    "    assert -180 <= elevation <= 180\n",
    "    \n",
    "    render_poses = torch.unsqueeze(pose_spherical(azimuth, elevation, 4.0), 0).to(device)\n",
    "    render_times = torch.Tensor([time]).to(device)\n",
    "\n",
    "    with torch.no_grad():\n",
    "            rgbs, _ = render_path(render_poses, render_times, hwf, args.chunk, render_kwargs_test, render_factor=args.render_factor)\n",
    "    rgbs = to8b(rgbs)\n",
    "    return rgbs[0]"
   ]
  },
  {
   "cell_type": "code",
   "execution_count": null,
   "metadata": {
    "pycharm": {
     "is_executing": true
    }
   },
   "outputs": [],
   "source": [
    "# genearte\n",
    "time = .5  # in [0,1]\n",
    "azimuth = 180  # in [-180,180]\n",
    "elevation = -20  # in [-180,180]\n",
    "img = generate_img(time, azimuth, elevation)\n",
    "\n",
    "# display\n",
    "plt.figure(2, figsize=(20,6))\n",
    "plt.imshow(img)\n",
    "plt.show()"
   ]
  },
  {
   "cell_type": "code",
   "execution_count": null,
   "outputs": [],
   "source": [],
   "metadata": {
    "collapsed": false,
    "pycharm": {
     "is_executing": true
    }
   }
  },
  {
   "cell_type": "code",
   "execution_count": null,
   "outputs": [],
   "source": [],
   "metadata": {
    "collapsed": false,
    "pycharm": {
     "is_executing": true
    }
   }
  },
  {
   "cell_type": "code",
   "execution_count": null,
   "outputs": [],
   "source": [],
   "metadata": {
    "collapsed": false,
    "pycharm": {
     "is_executing": true
    }
   }
  },
  {
   "cell_type": "code",
   "execution_count": null,
   "outputs": [],
   "source": [],
   "metadata": {
    "collapsed": false
   }
  }
 ],
 "metadata": {
  "kernelspec": {
   "display_name": "nerf",
   "language": "python",
   "name": "nerf"
  },
  "language_info": {
   "codemirror_mode": {
    "name": "ipython",
    "version": 3
   },
   "file_extension": ".py",
   "mimetype": "text/x-python",
   "name": "python",
   "nbconvert_exporter": "python",
   "pygments_lexer": "ipython3",
   "version": "3.6.10"
  }
 },
 "nbformat": 4,
 "nbformat_minor": 1
}
